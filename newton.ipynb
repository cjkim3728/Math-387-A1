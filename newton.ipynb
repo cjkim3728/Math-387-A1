{
 "cells": [
  {
   "cell_type": "code",
   "execution_count": 7,
   "metadata": {},
   "outputs": [
    {
     "ename": "ImportError",
     "evalue": "cannot import name '_ccallback_c'",
     "output_type": "error",
     "traceback": [
      "\u001b[1;31m---------------------------------------------------------------------------\u001b[0m",
      "\u001b[1;31mImportError\u001b[0m                               Traceback (most recent call last)",
      "\u001b[1;32m<ipython-input-7-56126ffeef15>\u001b[0m in \u001b[0;36m<module>\u001b[1;34m()\u001b[0m\n\u001b[0;32m      1\u001b[0m \u001b[1;32mimport\u001b[0m \u001b[0mnumpy\u001b[0m \u001b[1;32mas\u001b[0m \u001b[0mnp\u001b[0m\u001b[1;33m\u001b[0m\u001b[0m\n\u001b[0;32m      2\u001b[0m \u001b[1;32mimport\u001b[0m \u001b[0mmatplotlib\u001b[0m\u001b[1;33m.\u001b[0m\u001b[0mpyplot\u001b[0m \u001b[1;32mas\u001b[0m \u001b[0mplt\u001b[0m\u001b[1;33m\u001b[0m\u001b[0m\n\u001b[1;32m----> 3\u001b[1;33m \u001b[1;32mimport\u001b[0m \u001b[0mscipy\u001b[0m\u001b[1;33m.\u001b[0m\u001b[0mmisc\u001b[0m\u001b[1;33m\u001b[0m\u001b[0m\n\u001b[0m\u001b[0;32m      4\u001b[0m \u001b[1;32mfrom\u001b[0m \u001b[0mPIL\u001b[0m \u001b[1;32mimport\u001b[0m \u001b[0mImage\u001b[0m\u001b[1;33m\u001b[0m\u001b[0m\n",
      "\u001b[1;32m~\\AppData\\Roaming\\Python\\Python36\\site-packages\\scipy\\__init__.py\u001b[0m in \u001b[0;36m<module>\u001b[1;34m()\u001b[0m\n\u001b[0;32m    116\u001b[0m     \u001b[1;32mdel\u001b[0m \u001b[0m_NumpyVersion\u001b[0m\u001b[1;33m\u001b[0m\u001b[0m\n\u001b[0;32m    117\u001b[0m \u001b[1;33m\u001b[0m\u001b[0m\n\u001b[1;32m--> 118\u001b[1;33m     \u001b[1;32mfrom\u001b[0m \u001b[0mscipy\u001b[0m\u001b[1;33m.\u001b[0m\u001b[0m_lib\u001b[0m\u001b[1;33m.\u001b[0m\u001b[0m_ccallback\u001b[0m \u001b[1;32mimport\u001b[0m \u001b[0mLowLevelCallable\u001b[0m\u001b[1;33m\u001b[0m\u001b[0m\n\u001b[0m\u001b[0;32m    119\u001b[0m \u001b[1;33m\u001b[0m\u001b[0m\n\u001b[0;32m    120\u001b[0m     \u001b[1;32mfrom\u001b[0m \u001b[0mscipy\u001b[0m\u001b[1;33m.\u001b[0m\u001b[0m_lib\u001b[0m\u001b[1;33m.\u001b[0m\u001b[0m_testutils\u001b[0m \u001b[1;32mimport\u001b[0m \u001b[0mPytestTester\u001b[0m\u001b[1;33m\u001b[0m\u001b[0m\n",
      "\u001b[1;32m~\\AppData\\Roaming\\Python\\Python36\\site-packages\\scipy\\_lib\\_ccallback.py\u001b[0m in \u001b[0;36m<module>\u001b[1;34m()\u001b[0m\n\u001b[1;32m----> 1\u001b[1;33m \u001b[1;32mfrom\u001b[0m \u001b[1;33m.\u001b[0m \u001b[1;32mimport\u001b[0m \u001b[0m_ccallback_c\u001b[0m\u001b[1;33m\u001b[0m\u001b[0m\n\u001b[0m\u001b[0;32m      2\u001b[0m \u001b[1;33m\u001b[0m\u001b[0m\n\u001b[0;32m      3\u001b[0m \u001b[1;32mimport\u001b[0m \u001b[0mctypes\u001b[0m\u001b[1;33m\u001b[0m\u001b[0m\n\u001b[0;32m      4\u001b[0m \u001b[1;33m\u001b[0m\u001b[0m\n\u001b[0;32m      5\u001b[0m \u001b[0mPyCFuncPtr\u001b[0m \u001b[1;33m=\u001b[0m \u001b[0mctypes\u001b[0m\u001b[1;33m.\u001b[0m\u001b[0mCFUNCTYPE\u001b[0m\u001b[1;33m(\u001b[0m\u001b[0mctypes\u001b[0m\u001b[1;33m.\u001b[0m\u001b[0mc_void_p\u001b[0m\u001b[1;33m)\u001b[0m\u001b[1;33m.\u001b[0m\u001b[0m__bases__\u001b[0m\u001b[1;33m[\u001b[0m\u001b[1;36m0\u001b[0m\u001b[1;33m]\u001b[0m\u001b[1;33m\u001b[0m\u001b[0m\n",
      "\u001b[1;31mImportError\u001b[0m: cannot import name '_ccallback_c'"
     ]
    }
   ],
   "source": [
    "import numpy as np\n",
    "import matplotlib.pyplot as plt\n",
    "import scipy.misc\n",
    "from PIL import Image"
   ]
  },
  {
   "cell_type": "markdown",
   "metadata": {},
   "source": [
    "The following piece of code defines the iteration map \n",
    "\n",
    "$$\\phi(z)=z-\\frac{z^3-1}{3z^2}$$\n",
    "\n",
    "of the Newton-Raphson method for the equation $z^3-1=0$. In addition, the three roots are specified, and a color for each of the roots is chosen."
   ]
  },
  {
   "cell_type": "code",
   "execution_count": 6,
   "metadata": {},
   "outputs": [],
   "source": [
    "#Newton-Raphson iteration for z**3-1=0\n",
    "def phi(z):\n",
    "    z=complex(z)\n",
    "    return z+(1/(z*z)-z)/3\n",
    "#cubic roots of 1\n",
    "zz=[1,complex(-.5,.5*np.sqrt(3)),complex(-.5,-.5*np.sqrt(3))]\n",
    "#corresponding colors\n",
    "cc=[[1,0,0],[0,1,.5],[0,0,1]]"
   ]
  },
  {
   "cell_type": "markdown",
   "metadata": {},
   "source": [
    "We consider the rectangle $(x_{\\textrm{min}},x_{\\textrm{max}})\\times(y_{\\textrm{min}},y_{\\textrm{max}})$ in the $z$-plane, and superimpose on it a grid of size $\\texttt{imgx}\\times\\texttt{imgy}$. From each grid point, we start the Newton-Raphson iteration, and depending on the root it converges to, we color the point. Convergence is deemed to occur if the cuurent iterand is within $\\varepsilon$ distance of a root. In case the iteration takes too long (i.e., $\\texttt{iteration number} > \\texttt{maxit}$), or division by zero occurs, we leave the point uncolored (black). We also shade the colors in such a way that darker regions correspond to points that need more iterations to converge to a root."
   ]
  },
  {
   "cell_type": "code",
   "execution_count": 3,
   "metadata": {
    "scrolled": true
   },
   "outputs": [
    {
     "ename": "NameError",
     "evalue": "name 'phi' is not defined",
     "output_type": "error",
     "traceback": [
      "\u001b[1;31m---------------------------------------------------------------------------\u001b[0m",
      "\u001b[1;31mNameError\u001b[0m                                 Traceback (most recent call last)",
      "\u001b[1;32m<ipython-input-3-babf201f8971>\u001b[0m in \u001b[0;36m<module>\u001b[1;34m()\u001b[0m\n\u001b[0;32m     22\u001b[0m                 \u001b[0mh\u001b[0m\u001b[1;33m[\u001b[0m\u001b[0mmaxit\u001b[0m\u001b[1;33m]\u001b[0m\u001b[1;33m+=\u001b[0m\u001b[1;36m1\u001b[0m\u001b[1;33m\u001b[0m\u001b[0m\n\u001b[0;32m     23\u001b[0m                 \u001b[1;32mbreak\u001b[0m\u001b[1;33m\u001b[0m\u001b[0m\n\u001b[1;32m---> 24\u001b[1;33m             \u001b[0mz\u001b[0m\u001b[1;33m=\u001b[0m\u001b[0mphi\u001b[0m\u001b[1;33m(\u001b[0m\u001b[0mz0\u001b[0m\u001b[1;33m)\u001b[0m\u001b[1;33m\u001b[0m\u001b[0m\n\u001b[0m\u001b[0;32m     25\u001b[0m             \u001b[0mcon\u001b[0m\u001b[1;33m=\u001b[0m\u001b[1;32mFalse\u001b[0m\u001b[1;33m\u001b[0m\u001b[0m\n\u001b[0;32m     26\u001b[0m             \u001b[1;32mfor\u001b[0m \u001b[0ml\u001b[0m \u001b[1;32min\u001b[0m \u001b[0mrange\u001b[0m\u001b[1;33m(\u001b[0m\u001b[0mlen\u001b[0m\u001b[1;33m(\u001b[0m\u001b[0mzz\u001b[0m\u001b[1;33m)\u001b[0m\u001b[1;33m)\u001b[0m\u001b[1;33m:\u001b[0m\u001b[1;33m\u001b[0m\u001b[0m\n",
      "\u001b[1;31mNameError\u001b[0m: name 'phi' is not defined"
     ]
    }
   ],
   "source": [
    "xmin = -1.\n",
    "xmax = 1.2\n",
    "ymin = -1.1\n",
    "ymax = 1.1\n",
    "eps = .0001\n",
    "maxit = 40\n",
    "imgx = 700\n",
    "imgy = 700\n",
    "img = np.zeros((imgy,imgx,3))\n",
    "a = (xmax-xmin)/imgx\n",
    "b = (ymax-ymin)/imgy\n",
    "h = np.zeros(maxit+1)\n",
    "sit=20\n",
    "f = 1./sit\n",
    "for i in range(imgy):\n",
    "    for j in range(imgx):\n",
    "        x=xmin+a*j\n",
    "        y=ymax-b*i\n",
    "        z0=complex(x,y)\n",
    "        for k in range(maxit):\n",
    "            if abs(z0)<eps:\n",
    "                h[maxit]+=1\n",
    "                break\n",
    "            z=phi(z0)\n",
    "            con=False\n",
    "            for l in range(len(zz)):\n",
    "                if abs(z-zz[l])<eps:\n",
    "                    con=True\n",
    "                    break\n",
    "            if(con):\n",
    "                img[i,j]=[(sit-k)*f*c for c in cc[l]]\n",
    "                h[k]+=1\n",
    "                break\n",
    "            z0=z\n",
    "        if k==maxit: h[maxit]+=1\n",
    "plt.figure(figsize=(15,15))\n",
    "plt.imshow(img,extent=[xmin,xmax,ymin,ymax])\n",
    "plt.show()\n",
    "scipy.misc.imsave('newt.png', img)\n",
    "plt.figure(figsize=(14,7))\n",
    "plt.plot(range(maxit+1),h)\n",
    "plt.xlabel('# of iterations to convergence')\n",
    "plt.ylabel('# of points')\n",
    "plt.show()"
   ]
  },
  {
   "cell_type": "markdown",
   "metadata": {},
   "source": [
    "The image is colored in three different colors red, green, blue. Each color represents the convergence point. At the center of each large monochrome regions, 3 roots of the function exists. For this example, they are $1, -0.5+\\frac{\\sqrt{3}}2i, -0.5-\\frac{\\sqrt{3}}2i$, each representing red, green, blue in order. This large monochrome regions implies that any point near the root will converge to that root. Since Newton-Raphson methos is extremely fast converging, points near the root will rapidly converge to that root and do nothing interesting."
   ]
  },
  {
   "cell_type": "code",
   "execution_count": null,
   "metadata": {},
   "outputs": [],
   "source": [
    "#Newton-Raphson iteration for z**3-1=0\n",
    "def phi(z):\n",
    "    z=complex(z)\n",
    "    return z+(1/(z*z)-z)/3\n",
    "#cubic roots of 1\n",
    "zz=[1,complex(-.5,.5*np.sqrt(3)),complex(-.5,-.5*np.sqrt(3))]\n",
    "#corresponding colors\n",
    "cc=[[1,1,0],[0,1,1],[1,0,1]]"
   ]
  },
  {
   "cell_type": "code",
   "execution_count": 4,
   "metadata": {},
   "outputs": [
    {
     "ename": "NameError",
     "evalue": "name 'phi' is not defined",
     "output_type": "error",
     "traceback": [
      "\u001b[1;31m---------------------------------------------------------------------------\u001b[0m",
      "\u001b[1;31mNameError\u001b[0m                                 Traceback (most recent call last)",
      "\u001b[1;32m<ipython-input-4-a5cfadc38715>\u001b[0m in \u001b[0;36m<module>\u001b[1;34m()\u001b[0m\n\u001b[0;32m     22\u001b[0m                 \u001b[0mh\u001b[0m\u001b[1;33m[\u001b[0m\u001b[0mmaxit\u001b[0m\u001b[1;33m]\u001b[0m\u001b[1;33m+=\u001b[0m\u001b[1;36m1\u001b[0m\u001b[1;33m\u001b[0m\u001b[0m\n\u001b[0;32m     23\u001b[0m                 \u001b[1;32mbreak\u001b[0m\u001b[1;33m\u001b[0m\u001b[0m\n\u001b[1;32m---> 24\u001b[1;33m             \u001b[0mz\u001b[0m\u001b[1;33m=\u001b[0m\u001b[0mphi\u001b[0m\u001b[1;33m(\u001b[0m\u001b[0mz0\u001b[0m\u001b[1;33m)\u001b[0m\u001b[1;33m\u001b[0m\u001b[0m\n\u001b[0m\u001b[0;32m     25\u001b[0m             \u001b[0mcon\u001b[0m\u001b[1;33m=\u001b[0m\u001b[1;32mFalse\u001b[0m\u001b[1;33m\u001b[0m\u001b[0m\n\u001b[0;32m     26\u001b[0m             \u001b[1;32mfor\u001b[0m \u001b[0ml\u001b[0m \u001b[1;32min\u001b[0m \u001b[0mrange\u001b[0m\u001b[1;33m(\u001b[0m\u001b[0mlen\u001b[0m\u001b[1;33m(\u001b[0m\u001b[0mzz\u001b[0m\u001b[1;33m)\u001b[0m\u001b[1;33m)\u001b[0m\u001b[1;33m:\u001b[0m\u001b[1;33m\u001b[0m\u001b[0m\n",
      "\u001b[1;31mNameError\u001b[0m: name 'phi' is not defined"
     ]
    }
   ],
   "source": [
    "xmin = 0.\n",
    "xmax = 1\n",
    "ymin = 0\n",
    "ymax = 1\n",
    "eps = .0001\n",
    "maxit = 40\n",
    "imgx = 700\n",
    "imgy = 700\n",
    "img = np.zeros((imgy,imgx,3))\n",
    "a = (xmax-xmin)/imgx\n",
    "b = (ymax-ymin)/imgy\n",
    "h = np.zeros(maxit+1)\n",
    "sit=20\n",
    "f = 1./sit\n",
    "for i in range(imgy):\n",
    "    for j in range(imgx):\n",
    "        x=xmin+a*j\n",
    "        y=ymax-b*i\n",
    "        z0=complex(x,y)\n",
    "        for k in range(maxit):\n",
    "            if abs(z0)<eps:\n",
    "                h[maxit]+=1\n",
    "                break\n",
    "            z=phi(z0)\n",
    "            con=False\n",
    "            for l in range(len(zz)):\n",
    "                if abs(z-zz[l])<eps:\n",
    "                    con=True\n",
    "                    break\n",
    "            if(con):\n",
    "                img[i,j]=[(sit-k)*f*c for c in cc[l]]\n",
    "                h[k]+=1\n",
    "                break\n",
    "            z0=z\n",
    "        if k==maxit: h[maxit]+=1\n",
    "plt.figure(figsize=(15,15))\n",
    "plt.imshow(img,extent=[xmin,xmax,ymin,ymax])\n",
    "plt.show()\n",
    "scipy.misc.imsave('newt.png', img)\n",
    "plt.figure(figsize=(14,7))\n",
    "plt.plot(range(maxit+1),h)\n",
    "plt.xlabel('# of iterations to convergence')\n",
    "plt.ylabel('# of points')\n",
    "plt.show()"
   ]
  },
  {
   "cell_type": "markdown",
   "metadata": {},
   "source": []
  }
 ],
 "metadata": {
  "kernelspec": {
   "display_name": "Python 3",
   "language": "python",
   "name": "python3"
  },
  "language_info": {
   "codemirror_mode": {
    "name": "ipython",
    "version": 3
   },
   "file_extension": ".py",
   "mimetype": "text/x-python",
   "name": "python",
   "nbconvert_exporter": "python",
   "pygments_lexer": "ipython3",
   "version": "3.6.4"
  }
 },
 "nbformat": 4,
 "nbformat_minor": 2
}
